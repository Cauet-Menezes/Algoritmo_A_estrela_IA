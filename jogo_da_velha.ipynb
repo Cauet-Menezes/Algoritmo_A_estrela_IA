{
  "nbformat": 4,
  "nbformat_minor": 0,
  "metadata": {
    "colab": {
      "provenance": [],
      "authorship_tag": "ABX9TyOewI6C/2c1x+KDXkjTGE35",
      "include_colab_link": true
    },
    "kernelspec": {
      "name": "python3",
      "display_name": "Python 3"
    },
    "language_info": {
      "name": "python"
    }
  },
  "cells": [
    {
      "cell_type": "markdown",
      "metadata": {
        "id": "view-in-github",
        "colab_type": "text"
      },
      "source": [
        "<a href=\"https://colab.research.google.com/github/Cauet-Menezes/Inteligencia_Artificial/blob/main/jogo_da_velha.ipynb\" target=\"_parent\"><img src=\"https://colab.research.google.com/assets/colab-badge.svg\" alt=\"Open In Colab\"/></a>"
      ]
    },
    {
      "cell_type": "code",
      "execution_count": null,
      "metadata": {
        "colab": {
          "base_uri": "https://localhost:8080/"
        },
        "id": "qjJ5wLaXpGf5",
        "outputId": "1c54418c-ab1e-4cc4-ca3a-718704a6ef9b"
      },
      "outputs": [
        {
          "output_type": "stream",
          "name": "stdout",
          "text": [
            " | | \n",
            "-----\n",
            " | | \n",
            "-----\n",
            " | | \n",
            "-----\n"
          ]
        }
      ],
      "source": [
        "\n",
        "def inicializar_tabuleiro():\n",
        "  tabuleiro = []\n",
        "  for i in range(3):\n",
        "      linha = []\n",
        "      for j in range(3):\n",
        "          linha.append(' ')\n",
        "      tabuleiro.append(linha)\n",
        "  return tabuleiro\n",
        "\n",
        "def mostrar_tabuleiro(tabuleiro):\n",
        "  for linha in tabuleiro:\n",
        "    print('|'.join(linha))\n",
        "    print('-' * 5)\n",
        "\n",
        "def verificar_vitoria(tabuleiro):\n"
      ]
    }
  ]
}