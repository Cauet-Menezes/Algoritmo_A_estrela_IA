{
  "nbformat": 4,
  "nbformat_minor": 0,
  "metadata": {
    "colab": {
      "provenance": [],
      "authorship_tag": "ABX9TyPWqy9l+kwksdCsjCYjVKsG",
      "include_colab_link": true
    },
    "kernelspec": {
      "name": "python3",
      "display_name": "Python 3"
    },
    "language_info": {
      "name": "python"
    }
  },
  "cells": [
    {
      "cell_type": "markdown",
      "metadata": {
        "id": "view-in-github",
        "colab_type": "text"
      },
      "source": [
        "<a href=\"https://colab.research.google.com/github/Cauet-Menezes/Inteligencia_Artificial/blob/main/Algoritmo_genetico_particao_de_dados.ipynb\" target=\"_parent\"><img src=\"https://colab.research.google.com/assets/colab-badge.svg\" alt=\"Open In Colab\"/></a>"
      ]
    },
    {
      "cell_type": "code",
      "execution_count": null,
      "metadata": {
        "id": "Ekm3xEgIcyPP"
      },
      "outputs": [],
      "source": [
        "import numpy as np\n",
        "\n",
        "def gera_individuo(popsize, N):\n",
        "   return [np.random.randint(2, size = N) for _ in range (popsize)]\n",
        "\n",
        "def fitness (individuo, numeros):\n",
        "   A = [numeros[i] for i in range(len(individuo)) if individuo[i] == 0]\n",
        "   B = [numeros[i] for i in range(len(individuo)) if individuo[i] == 1]\n",
        "   return abs(sum(A) - sum(B))\n",
        "\n",
        "def roleta(populacao, fitness):\n",
        "  max(fitness)\n",
        "\n",
        "  #inverter os numeros para que o menor valor do fitness seja o maior e o maior o menor proporcionalmente\n",
        "  fitness_invertido = [max(fitness) - i for i in fitness]\n",
        "\n",
        "  #Soma dos valores\n",
        "  for i in range(len(fitness_invertido)):\n",
        "    soma += fitness_invertido[i]\n",
        "  #calculo das probabilidades\n",
        "  probabilidades = [i/soma for i in fitness_invertido]\n",
        "\n",
        "  #Roleta\n",
        "   roleta = np.random.choice(len(populacao), p = probabilidades)\n",
        "\n",
        "  #Retornando o individuo selecionado\n",
        "\n",
        "  return populacao[roleta]\n",
        "\n",
        "\n",
        "\n"
      ]
    }
  ]
}